{
 "cells": [
  {
   "cell_type": "code",
   "id": "initial_id",
   "metadata": {
    "collapsed": true,
    "ExecuteTime": {
     "end_time": "2024-11-22T18:03:02.297700Z",
     "start_time": "2024-11-22T18:03:02.291967Z"
    }
   },
   "source": [
    "from sklearn.preprocessing import StandardScaler\n",
    "from ucimlrepo import fetch_ucirepo\n",
    "from sklearn.model_selection import train_test_split\n",
    "from sklearn.ensemble import RandomForestClassifier\n",
    "from sklearn.metrics import accuracy_score, f1_score, classification_report\n",
    "import umap\n",
    "import matplotlib.pyplot as plt\n",
    "from imblearn.over_sampling import SMOTE\n",
    "import datetime as dt\n",
    "from sklearn.manifold import TSNE\n",
    "import seaborn as sns\n",
    "\n"
   ],
   "outputs": [],
   "execution_count": 2
  },
  {
   "metadata": {
    "ExecuteTime": {
     "end_time": "2024-11-22T18:03:11.290361Z",
     "start_time": "2024-11-22T18:03:03.682853Z"
    }
   },
   "cell_type": "code",
   "source": [
    "# fetch dataset\n",
    "covertype = fetch_ucirepo(id=31)\n",
    "\n",
    "# data\n",
    "X = covertype.data.features\n",
    "y = covertype.data.targets"
   ],
   "id": "5b3a6195c8c4d72f",
   "outputs": [],
   "execution_count": 3
  },
  {
   "metadata": {
    "ExecuteTime": {
     "end_time": "2024-11-22T18:03:23.902126Z",
     "start_time": "2024-11-22T18:03:23.886542Z"
    }
   },
   "cell_type": "code",
   "source": [
    "print(X.shape)\n",
    "print(y.shape)\n",
    "\n",
    "print(y.Cover_Type.value_counts())"
   ],
   "id": "d96a370fdcee4102",
   "outputs": [
    {
     "name": "stdout",
     "output_type": "stream",
     "text": [
      "(581012, 54)\n",
      "(581012, 1)\n",
      "Cover_Type\n",
      "2    283301\n",
      "1    211840\n",
      "3     35754\n",
      "7     20510\n",
      "6     17367\n",
      "5      9493\n",
      "4      2747\n",
      "Name: count, dtype: int64\n"
     ]
    }
   ],
   "execution_count": 4
  },
  {
   "metadata": {
    "ExecuteTime": {
     "end_time": "2024-11-22T18:03:25.672290Z",
     "start_time": "2024-11-22T18:03:25.668916Z"
    }
   },
   "cell_type": "code",
   "source": [
    "# Réduire la taille de la base de donnée\n",
    "data_size = 1\n",
    "\n",
    "if data_size < 1:\n",
    "    X_sample, _, y_sample, _ = train_test_split(X, y, train_size=data_size, stratify=y, random_state=42)\n",
    "else: #si on prend tout le dataset, pas besoin de split\n",
    "    X_sample = X\n",
    "    y_sample = y\n",
    "print(X_sample.shape)"
   ],
   "id": "a67d70e7fc7fbec4",
   "outputs": [
    {
     "name": "stdout",
     "output_type": "stream",
     "text": [
      "(581012, 54)\n"
     ]
    }
   ],
   "execution_count": 5
  },
  {
   "metadata": {
    "ExecuteTime": {
     "end_time": "2024-11-22T18:03:34.458784Z",
     "start_time": "2024-11-22T18:03:34.100804Z"
    }
   },
   "cell_type": "code",
   "source": [
    "### Standardiser données\n",
    "scaler = StandardScaler()\n",
    "X_scaled = scaler.fit_transform(X_sample)"
   ],
   "id": "e614b7d00a4dc430",
   "outputs": [],
   "execution_count": 6
  },
  {
   "metadata": {
    "ExecuteTime": {
     "end_time": "2024-11-22T18:04:00.835719Z",
     "start_time": "2024-11-22T18:03:35.712322Z"
    }
   },
   "cell_type": "code",
   "source": [
    "# Over-sampling avec SMOTE\n",
    "k_neighbors_smote=5\n",
    "sm = SMOTE(random_state=42, k_neighbors=k_neighbors_smote)\n",
    "X_oversampled, y_oversampled = sm.fit_resample(X_scaled, y_sample)"
   ],
   "id": "5d64b30b9f69516b",
   "outputs": [],
   "execution_count": 7
  },
  {
   "metadata": {
    "ExecuteTime": {
     "end_time": "2024-11-22T18:04:40.698078Z",
     "start_time": "2024-11-22T18:04:40.687897Z"
    }
   },
   "cell_type": "code",
   "source": [
    "print(\"After over-sampling: \")\n",
    "print(y_oversampled.Cover_Type.value_counts())"
   ],
   "id": "8b5d00bf4f489b37",
   "outputs": [
    {
     "name": "stdout",
     "output_type": "stream",
     "text": [
      "After over-sampling: \n",
      "Cover_Type\n",
      "5    283301\n",
      "2    283301\n",
      "1    283301\n",
      "7    283301\n",
      "3    283301\n",
      "6    283301\n",
      "4    283301\n",
      "Name: count, dtype: int64\n"
     ]
    }
   ],
   "execution_count": 8
  },
  {
   "metadata": {
    "jupyter": {
     "is_executing": true
    },
    "ExecuteTime": {
     "start_time": "2024-11-22T18:04:42.919883Z"
    }
   },
   "cell_type": "code",
   "source": [
    "n_neighbors = 10\n",
    "min_dist = 0.1\n",
    "n_components = 2 # 2 pour 2D, 3 pour 3D\n",
    "\n",
    "reducer = umap.UMAP(n_neighbors=n_neighbors, min_dist=min_dist, n_components=n_components)\n",
    "embedding = reducer.fit_transform(X_scaled)\n",
    "embedding.shape"
   ],
   "id": "25e2630e062be0ca",
   "outputs": [
    {
     "name": "stderr",
     "output_type": "stream",
     "text": [
      "C:\\Users\\helen\\source\\repos_git\\TP2-Apprentissage_automatique\\.venv\\Lib\\site-packages\\sklearn\\manifold\\_spectral_embedding.py:329: UserWarning: Graph is not fully connected, spectral embedding may not work as expected.\n",
      "  warnings.warn(\n",
      "C:\\Users\\helen\\source\\repos_git\\TP2-Apprentissage_automatique\\.venv\\Lib\\site-packages\\sklearn\\manifold\\_spectral_embedding.py:455: UserWarning: Exited at iteration 2000 with accuracies \n",
      "[5.42095075e-15 5.16681293e-07 1.74832178e-06 2.16043474e-05]\n",
      "not reaching the requested tolerance 2.2798776626586914e-06.\n",
      "Use iteration 1212 instead with accuracy \n",
      "9.932127275205168e-07.\n",
      "\n",
      "  _, diffusion_map = lobpcg(\n",
      "C:\\Users\\helen\\source\\repos_git\\TP2-Apprentissage_automatique\\.venv\\Lib\\site-packages\\sklearn\\manifold\\_spectral_embedding.py:455: UserWarning: Exited postprocessing with accuracies \n",
      "[5.56244027e-15 2.56149993e-07 9.70806687e-07 2.79073836e-06]\n",
      "not reaching the requested tolerance 2.2798776626586914e-06.\n",
      "  _, diffusion_map = lobpcg(\n"
     ]
    }
   ],
   "execution_count": null
  },
  {
   "metadata": {
    "ExecuteTime": {
     "end_time": "2024-11-22T04:37:10.141705Z",
     "start_time": "2024-11-22T04:37:10.098926Z"
    }
   },
   "cell_type": "code",
   "source": [
    "if n_components == 3: # Affichage en 3D\n",
    "    \n",
    "    fig = plt.figure(figsize=(15,8))\n",
    "    ax = fig.add_subplot(111, projection='3d')\n",
    "    scatter = ax.scatter(embedding[:,0], embedding[:,1], embedding[:,2], c=y_sample.Cover_Type, s=1)\n",
    "    # Ajout de la colorbar\n",
    "    cbar = fig.colorbar(scatter, ax=ax, pad=0.1, aspect=10)\n",
    "    cbar.set_label(\"Cover Type\", fontsize=8)\n",
    "    \n",
    "elif n_components == 2: # Affichage en 2D\n",
    "    plt.figure(figsize=(12,8))\n",
    "    plt.scatter(embedding[:, 0], embedding[:, 1], c=y_sample.Cover_Type, cmap='Spectral', s=2)\n",
    "    \n",
    "    plt.gca().set_aspect('equal', 'datalim')\n",
    "    plt.colorbar()\n",
    "    #plt.colorbar(boundaries=np.arange(9)-0.5).set_ticks(np.arange(8))\n",
    "    date = dt.datetime.now().time()\n",
    "    date = (str(date))\n",
    "    date = date.replace(\":\", \"-\")\n",
    "    plt.title('OVERSAMPLING - UMAP projection with ' + str(data_size) +\" of the dataset   \" + \"  n_neighbors=\"+ str(n_neighbors) + \"  min_dist=\"+ str(min_dist) + \"  k_neighbors for SMOTE=\"+str(k_neighbors_smote), fontsize=8)\n",
    "    plt.savefig('../images/UMAP-SMOTE---'+ date +'.png')"
   ],
   "id": "381102d861ac38e3",
   "outputs": [
    {
     "ename": "NameError",
     "evalue": "name 'embedding' is not defined",
     "output_type": "error",
     "traceback": [
      "\u001B[0;31m---------------------------------------------------------------------------\u001B[0m",
      "\u001B[0;31mNameError\u001B[0m                                 Traceback (most recent call last)",
      "Cell \u001B[0;32mIn[53], line 12\u001B[0m\n\u001B[1;32m     10\u001B[0m \u001B[38;5;28;01melif\u001B[39;00m n_components \u001B[38;5;241m==\u001B[39m \u001B[38;5;241m2\u001B[39m: \u001B[38;5;66;03m# Affichage en 2D\u001B[39;00m\n\u001B[1;32m     11\u001B[0m     plt\u001B[38;5;241m.\u001B[39mfigure(figsize\u001B[38;5;241m=\u001B[39m(\u001B[38;5;241m12\u001B[39m,\u001B[38;5;241m8\u001B[39m))\n\u001B[0;32m---> 12\u001B[0m     plt\u001B[38;5;241m.\u001B[39mscatter(\u001B[43membedding\u001B[49m[:, \u001B[38;5;241m0\u001B[39m], embedding[:, \u001B[38;5;241m1\u001B[39m], c\u001B[38;5;241m=\u001B[39my_sample\u001B[38;5;241m.\u001B[39mCover_Type, cmap\u001B[38;5;241m=\u001B[39m\u001B[38;5;124m'\u001B[39m\u001B[38;5;124mSpectral\u001B[39m\u001B[38;5;124m'\u001B[39m, s\u001B[38;5;241m=\u001B[39m\u001B[38;5;241m2\u001B[39m)\n\u001B[1;32m     14\u001B[0m     plt\u001B[38;5;241m.\u001B[39mgca()\u001B[38;5;241m.\u001B[39mset_aspect(\u001B[38;5;124m'\u001B[39m\u001B[38;5;124mequal\u001B[39m\u001B[38;5;124m'\u001B[39m, \u001B[38;5;124m'\u001B[39m\u001B[38;5;124mdatalim\u001B[39m\u001B[38;5;124m'\u001B[39m)\n\u001B[1;32m     15\u001B[0m     plt\u001B[38;5;241m.\u001B[39mcolorbar()\n",
      "\u001B[0;31mNameError\u001B[0m: name 'embedding' is not defined"
     ]
    },
    {
     "data": {
      "text/plain": [
       "<Figure size 1200x800 with 0 Axes>"
      ]
     },
     "metadata": {},
     "output_type": "display_data"
    }
   ],
   "execution_count": 53
  },
  {
   "metadata": {
    "ExecuteTime": {
     "end_time": "2024-11-22T04:53:56.058873Z",
     "start_time": "2024-11-22T04:41:52.862481Z"
    }
   },
   "cell_type": "code",
   "source": [
    "#Classificatiom\n",
    "# Diviser les données oversamplées en ensemble d'entraînement et de test\n",
    "y_oversampled = y_oversampled.values.ravel()\n",
    "X_train, X_test, y_train, y_test = train_test_split(\n",
    "    X_oversampled, y_oversampled.ravel(),  \n",
    "    test_size=0.3, random_state=42, stratify=y_oversampled\n",
    ")\n",
    "\n",
    "rf_model = RandomForestClassifier(n_estimators=100, random_state=42)\n",
    "rf_model.fit(X_train, y_train)\n",
    "\n",
    "y_pred = rf_model.predict(X_test)\n",
    "\n",
    "print(\"Classification Report:\")\n",
    "print(classification_report(y_test, y_pred))\n",
    "\n",
    "print(f\"Accuracy: {accuracy_score(y_test, y_pred):.2f}\")\n"
   ],
   "id": "70b2cf1a4e67d936",
   "outputs": [
    {
     "name": "stdout",
     "output_type": "stream",
     "text": [
      "Classification Report:\n",
      "              precision    recall  f1-score   support\n",
      "\n",
      "           1       0.97      0.96      0.97     84990\n",
      "           2       0.97      0.96      0.96     84990\n",
      "           3       0.99      0.99      0.99     84990\n",
      "           4       1.00      1.00      1.00     84991\n",
      "           5       0.99      1.00      1.00     84991\n",
      "           6       0.99      1.00      0.99     84990\n",
      "           7       1.00      1.00      1.00     84991\n",
      "\n",
      "    accuracy                           0.99    594933\n",
      "   macro avg       0.99      0.99      0.99    594933\n",
      "weighted avg       0.99      0.99      0.99    594933\n",
      "\n",
      "Accuracy: 0.99\n"
     ]
    }
   ],
   "execution_count": 58
  },
  {
   "metadata": {
    "jupyter": {
     "is_executing": true
    },
    "ExecuteTime": {
     "start_time": "2024-11-22T05:11:40.296823Z"
    }
   },
   "cell_type": "code",
   "source": [
    "# Appliquer t-SNE sur les données suréchantillonnées\n",
    "tsne = TSNE(n_components=2, random_state=42, perplexity=30, n_iter=1000)\n",
    "X_tsne = tsne.fit_transform(X_oversampled)\n",
    "\n",
    "# Tracer les points\n",
    "plt.figure(figsize=(12, 8))\n",
    "sns.scatterplot(\n",
    "    x=X_tsne[:, 0],\n",
    "    y=X_tsne[:, 1],\n",
    "    hue=y_oversampled,\n",
    "    palette=\"tab10\",\n",
    "    legend=\"full\",\n",
    "    alpha=0.7\n",
    ")\n",
    "plt.title(\"Visualisation des classes avec t-SNE\")\n",
    "plt.xlabel(\"t-SNE 1\")\n",
    "plt.ylabel(\"t-SNE 2\")\n",
    "plt.legend(title=\"Classes\", loc=\"best\")\n",
    "plt.grid(True)\n",
    "plt.show()"
   ],
   "id": "29a66c0877c0f8ff",
   "outputs": [
    {
     "name": "stderr",
     "output_type": "stream",
     "text": [
      "/Users/carchaf/PycharmProjects/TP2-Apprentissage_automatique/.venv/lib/python3.12/site-packages/sklearn/manifold/_t_sne.py:1162: FutureWarning: 'n_iter' was renamed to 'max_iter' in version 1.5 and will be removed in 1.7.\n",
      "  warnings.warn(\n"
     ]
    }
   ],
   "execution_count": null
  }
 ],
 "metadata": {
  "kernelspec": {
   "display_name": "Python 3",
   "language": "python",
   "name": "python3"
  },
  "language_info": {
   "codemirror_mode": {
    "name": "ipython",
    "version": 2
   },
   "file_extension": ".py",
   "mimetype": "text/x-python",
   "name": "python",
   "nbconvert_exporter": "python",
   "pygments_lexer": "ipython2",
   "version": "2.7.6"
  }
 },
 "nbformat": 4,
 "nbformat_minor": 5
}
